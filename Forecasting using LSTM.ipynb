{
 "cells": [
  {
   "cell_type": "code",
   "execution_count": 1,
   "metadata": {},
   "outputs": [],
   "source": [
    "import pandas as pd\n",
    "import numpy as np \n",
    "import matplotlib.pyplot as plt\n",
    "%matplotlib inline\n"
   ]
  },
  {
   "cell_type": "code",
   "execution_count": 2,
   "metadata": {},
   "outputs": [
    {
     "data": {
      "text/html": [
       "<div>\n",
       "<style scoped>\n",
       "    .dataframe tbody tr th:only-of-type {\n",
       "        vertical-align: middle;\n",
       "    }\n",
       "\n",
       "    .dataframe tbody tr th {\n",
       "        vertical-align: top;\n",
       "    }\n",
       "\n",
       "    .dataframe thead th {\n",
       "        text-align: right;\n",
       "    }\n",
       "</style>\n",
       "<table border=\"1\" class=\"dataframe\">\n",
       "  <thead>\n",
       "    <tr style=\"text-align: right;\">\n",
       "      <th></th>\n",
       "      <th>date</th>\n",
       "      <th>open</th>\n",
       "      <th>high</th>\n",
       "      <th>low</th>\n",
       "      <th>close</th>\n",
       "      <th>volume</th>\n",
       "      <th>Name</th>\n",
       "    </tr>\n",
       "  </thead>\n",
       "  <tbody>\n",
       "    <tr>\n",
       "      <th>0</th>\n",
       "      <td>2013-02-08</td>\n",
       "      <td>15.07</td>\n",
       "      <td>15.12</td>\n",
       "      <td>14.63</td>\n",
       "      <td>14.75</td>\n",
       "      <td>8407500</td>\n",
       "      <td>AAL</td>\n",
       "    </tr>\n",
       "    <tr>\n",
       "      <th>1</th>\n",
       "      <td>2013-02-11</td>\n",
       "      <td>14.89</td>\n",
       "      <td>15.01</td>\n",
       "      <td>14.26</td>\n",
       "      <td>14.46</td>\n",
       "      <td>8882000</td>\n",
       "      <td>AAL</td>\n",
       "    </tr>\n",
       "    <tr>\n",
       "      <th>2</th>\n",
       "      <td>2013-02-12</td>\n",
       "      <td>14.45</td>\n",
       "      <td>14.51</td>\n",
       "      <td>14.10</td>\n",
       "      <td>14.27</td>\n",
       "      <td>8126000</td>\n",
       "      <td>AAL</td>\n",
       "    </tr>\n",
       "    <tr>\n",
       "      <th>3</th>\n",
       "      <td>2013-02-13</td>\n",
       "      <td>14.30</td>\n",
       "      <td>14.94</td>\n",
       "      <td>14.25</td>\n",
       "      <td>14.66</td>\n",
       "      <td>10259500</td>\n",
       "      <td>AAL</td>\n",
       "    </tr>\n",
       "    <tr>\n",
       "      <th>4</th>\n",
       "      <td>2013-02-14</td>\n",
       "      <td>14.94</td>\n",
       "      <td>14.96</td>\n",
       "      <td>13.16</td>\n",
       "      <td>13.99</td>\n",
       "      <td>31879900</td>\n",
       "      <td>AAL</td>\n",
       "    </tr>\n",
       "  </tbody>\n",
       "</table>\n",
       "</div>"
      ],
      "text/plain": [
       "         date   open   high    low  close    volume Name\n",
       "0  2013-02-08  15.07  15.12  14.63  14.75   8407500  AAL\n",
       "1  2013-02-11  14.89  15.01  14.26  14.46   8882000  AAL\n",
       "2  2013-02-12  14.45  14.51  14.10  14.27   8126000  AAL\n",
       "3  2013-02-13  14.30  14.94  14.25  14.66  10259500  AAL\n",
       "4  2013-02-14  14.94  14.96  13.16  13.99  31879900  AAL"
      ]
     },
     "execution_count": 2,
     "metadata": {},
     "output_type": "execute_result"
    }
   ],
   "source": [
    "data=pd.read_csv('all_stocks_5yr.csv')\n",
    "data.head()"
   ]
  },
  {
   "cell_type": "code",
   "execution_count": 3,
   "metadata": {},
   "outputs": [
    {
     "data": {
      "text/plain": [
       "array(['AAL', 'AAPL', 'AAP', 'ABBV', 'ABC', 'ABT', 'ACN', 'ADBE', 'ADI',\n",
       "       'ADM', 'ADP', 'ADSK', 'ADS', 'AEE', 'AEP', 'AES', 'AET', 'AFL',\n",
       "       'AGN', 'AIG', 'AIV', 'AIZ', 'AJG', 'AKAM', 'ALB', 'ALGN', 'ALK',\n",
       "       'ALLE', 'ALL', 'ALXN', 'AMAT', 'AMD', 'AME', 'AMGN', 'AMG', 'AMP',\n",
       "       'AMT', 'AMZN', 'ANDV', 'ANSS', 'ANTM', 'AON', 'AOS', 'APA', 'APC',\n",
       "       'APD', 'APH', 'APTV', 'ARE', 'ARNC', 'ATVI', 'AVB', 'AVGO', 'AVY',\n",
       "       'AWK', 'AXP', 'AYI', 'AZO', 'A', 'BAC', 'BAX', 'BA', 'BBT', 'BBY',\n",
       "       'BDX', 'BEN', 'BF.B', 'BHF', 'BHGE', 'BIIB', 'BK', 'BLK', 'BLL',\n",
       "       'BMY', 'BRK.B', 'BSX', 'BWA', 'BXP', 'CAG', 'CAH', 'CAT', 'CA',\n",
       "       'CBG', 'CBOE', 'CBS', 'CB', 'CCI', 'CCL', 'CDNS', 'CELG', 'CERN',\n",
       "       'CFG', 'CF', 'CHD', 'CHK', 'CHRW', 'CHTR', 'CINF', 'CI', 'CLX',\n",
       "       'CL', 'CMA', 'CMCSA', 'CME', 'CMG', 'CMI', 'CMS', 'CNC', 'CNP',\n",
       "       'COF', 'COG', 'COL', 'COO', 'COP', 'COST', 'COTY', 'CPB', 'CRM',\n",
       "       'CSCO', 'CSRA', 'CSX', 'CTAS', 'CTL', 'CTSH', 'CTXS', 'CVS', 'CVX',\n",
       "       'CXO', 'C', 'DAL', 'DE', 'DFS', 'DGX', 'DG', 'DHI', 'DHR', 'DISCA',\n",
       "       'DISCK', 'DISH', 'DIS', 'DLR', 'DLTR', 'DOV', 'DPS', 'DRE', 'DRI',\n",
       "       'DTE', 'DUK', 'DVA', 'DVN', 'DWDP', 'DXC', 'D', 'EA', 'EBAY',\n",
       "       'ECL', 'ED', 'EFX', 'EIX', 'EL', 'EMN', 'EMR', 'EOG', 'EQIX',\n",
       "       'EQR', 'EQT', 'ESRX', 'ESS', 'ES', 'ETFC', 'ETN', 'ETR', 'EVHC',\n",
       "       'EW', 'EXC', 'EXPD', 'EXPE', 'EXR', 'FAST', 'FBHS', 'FB', 'FCX',\n",
       "       'FDX', 'FE', 'FFIV', 'FISV', 'FIS', 'FITB', 'FLIR', 'FLR', 'FLS',\n",
       "       'FL', 'FMC', 'FOXA', 'FOX', 'FRT', 'FTI', 'FTV', 'F', 'GD', 'GE',\n",
       "       'GGP', 'GILD', 'GIS', 'GLW', 'GM', 'GOOGL', 'GOOG', 'GPC', 'GPN',\n",
       "       'GPS', 'GRMN', 'GS', 'GT', 'GWW', 'HAL', 'HAS', 'HBAN', 'HBI',\n",
       "       'HCA', 'HCN', 'HCP', 'HD', 'HES', 'HIG', 'HII', 'HLT', 'HOG',\n",
       "       'HOLX', 'HON', 'HPE', 'HPQ', 'HP', 'HRB', 'HRL', 'HRS', 'HSIC',\n",
       "       'HST', 'HSY', 'HUM', 'IBM', 'ICE', 'IDXX', 'IFF', 'ILMN', 'INCY',\n",
       "       'INFO', 'INTC', 'INTU', 'IPG', 'IP', 'IQV', 'IRM', 'IR', 'ISRG',\n",
       "       'ITW', 'IT', 'IVZ', 'JBHT', 'JCI', 'JEC', 'JNJ', 'JNPR', 'JPM',\n",
       "       'JWN', 'KEY', 'KHC', 'KIM', 'KLAC', 'KMB', 'KMI', 'KMX', 'KORS',\n",
       "       'KO', 'KR', 'KSS', 'KSU', 'K', 'LB', 'LEG', 'LEN', 'LH', 'LKQ',\n",
       "       'LLL', 'LLY', 'LMT', 'LNC', 'LNT', 'LOW', 'LRCX', 'LUK', 'LUV',\n",
       "       'LYB', 'L', 'MAA', 'MAC', 'MAR', 'MAS', 'MAT', 'MA', 'MCD', 'MCHP',\n",
       "       'MCK', 'MCO', 'MDLZ', 'MDT', 'MET', 'MGM', 'MHK', 'MKC', 'MLM',\n",
       "       'MMC', 'MMM', 'MNST', 'MON', 'MOS', 'MO', 'MPC', 'MRK', 'MRO',\n",
       "       'MSFT', 'MSI', 'MS', 'MTB', 'MTD', 'MU', 'MYL', 'M', 'NAVI', 'NBL',\n",
       "       'NCLH', 'NDAQ', 'NEE', 'NEM', 'NFLX', 'NFX', 'NI', 'NKE', 'NLSN',\n",
       "       'NOC', 'NOV', 'NRG', 'NSC', 'NTAP', 'NTRS', 'NUE', 'NVDA', 'NWL',\n",
       "       'NWSA', 'NWS', 'OKE', 'OMC', 'ORCL', 'ORLY', 'OXY', 'O', 'PAYX',\n",
       "       'PBCT', 'PCAR', 'PCG', 'PCLN', 'PDCO', 'PEG', 'PEP', 'PFE', 'PFG',\n",
       "       'PGR', 'PG', 'PHM', 'PH', 'PKG', 'PKI', 'PLD', 'PM', 'PNC', 'PNR',\n",
       "       'PNW', 'PPG', 'PPL', 'PRGO', 'PRU', 'PSA', 'PSX', 'PVH', 'PWR',\n",
       "       'PXD', 'PX', 'PYPL', 'QCOM', 'QRVO', 'RCL', 'REGN', 'REG', 'RE',\n",
       "       'RF', 'RHI', 'RHT', 'RJF', 'RL', 'RMD', 'ROK', 'ROP', 'ROST',\n",
       "       'RRC', 'RSG', 'RTN', 'SBAC', 'SBUX', 'SCG', 'SCHW', 'SEE', 'SHW',\n",
       "       'SIG', 'SJM', 'SLB', 'SLG', 'SNA', 'SNI', 'SNPS', 'SO', 'SPGI',\n",
       "       'SPG', 'SRCL', 'SRE', 'STI', 'STT', 'STX', 'STZ', 'SWKS', 'SWK',\n",
       "       'SYF', 'SYK', 'SYMC', 'SYY', 'TAP', 'TDG', 'TEL', 'TGT', 'TIF',\n",
       "       'TJX', 'TMK', 'TMO', 'TPR', 'TRIP', 'TROW', 'TRV', 'TSCO', 'TSN',\n",
       "       'TSS', 'TWX', 'TXN', 'TXT', 'T', 'UAA', 'UAL', 'UA', 'UDR', 'UHS',\n",
       "       'ULTA', 'UNH', 'UNM', 'UNP', 'UPS', 'URI', 'USB', 'UTX', 'VAR',\n",
       "       'VFC', 'VIAB', 'VLO', 'VMC', 'VNO', 'VRSK', 'VRSN', 'VRTX', 'VTR',\n",
       "       'VZ', 'V', 'WAT', 'WBA', 'WDC', 'WEC', 'WFC', 'WHR', 'WLTW', 'WMB',\n",
       "       'WMT', 'WM', 'WRK', 'WU', 'WYNN', 'WYN', 'WY', 'XEC', 'XEL',\n",
       "       'XLNX', 'XL', 'XOM', 'XRAY', 'XRX', 'XYL', 'YUM', 'ZBH', 'ZION',\n",
       "       'ZTS'], dtype=object)"
      ]
     },
     "execution_count": 3,
     "metadata": {},
     "output_type": "execute_result"
    }
   ],
   "source": [
    "data['Name'].unique()"
   ]
  },
  {
   "cell_type": "code",
   "execution_count": 4,
   "metadata": {},
   "outputs": [
    {
     "data": {
      "text/html": [
       "<div>\n",
       "<style scoped>\n",
       "    .dataframe tbody tr th:only-of-type {\n",
       "        vertical-align: middle;\n",
       "    }\n",
       "\n",
       "    .dataframe tbody tr th {\n",
       "        vertical-align: top;\n",
       "    }\n",
       "\n",
       "    .dataframe thead th {\n",
       "        text-align: right;\n",
       "    }\n",
       "</style>\n",
       "<table border=\"1\" class=\"dataframe\">\n",
       "  <thead>\n",
       "    <tr style=\"text-align: right;\">\n",
       "      <th></th>\n",
       "      <th>date</th>\n",
       "      <th>open</th>\n",
       "      <th>high</th>\n",
       "      <th>low</th>\n",
       "      <th>close</th>\n",
       "      <th>volume</th>\n",
       "      <th>Name</th>\n",
       "    </tr>\n",
       "  </thead>\n",
       "  <tbody>\n",
       "    <tr>\n",
       "      <th>1259</th>\n",
       "      <td>2013-02-08</td>\n",
       "      <td>67.7142</td>\n",
       "      <td>68.4014</td>\n",
       "      <td>66.8928</td>\n",
       "      <td>67.8542</td>\n",
       "      <td>158168416</td>\n",
       "      <td>AAPL</td>\n",
       "    </tr>\n",
       "    <tr>\n",
       "      <th>1260</th>\n",
       "      <td>2013-02-11</td>\n",
       "      <td>68.0714</td>\n",
       "      <td>69.2771</td>\n",
       "      <td>67.6071</td>\n",
       "      <td>68.5614</td>\n",
       "      <td>129029425</td>\n",
       "      <td>AAPL</td>\n",
       "    </tr>\n",
       "    <tr>\n",
       "      <th>1261</th>\n",
       "      <td>2013-02-12</td>\n",
       "      <td>68.5014</td>\n",
       "      <td>68.9114</td>\n",
       "      <td>66.8205</td>\n",
       "      <td>66.8428</td>\n",
       "      <td>151829363</td>\n",
       "      <td>AAPL</td>\n",
       "    </tr>\n",
       "    <tr>\n",
       "      <th>1262</th>\n",
       "      <td>2013-02-13</td>\n",
       "      <td>66.7442</td>\n",
       "      <td>67.6628</td>\n",
       "      <td>66.1742</td>\n",
       "      <td>66.7156</td>\n",
       "      <td>118721995</td>\n",
       "      <td>AAPL</td>\n",
       "    </tr>\n",
       "    <tr>\n",
       "      <th>1263</th>\n",
       "      <td>2013-02-14</td>\n",
       "      <td>66.3599</td>\n",
       "      <td>67.3771</td>\n",
       "      <td>66.2885</td>\n",
       "      <td>66.6556</td>\n",
       "      <td>88809154</td>\n",
       "      <td>AAPL</td>\n",
       "    </tr>\n",
       "  </tbody>\n",
       "</table>\n",
       "</div>"
      ],
      "text/plain": [
       "            date     open     high      low    close     volume  Name\n",
       "1259  2013-02-08  67.7142  68.4014  66.8928  67.8542  158168416  AAPL\n",
       "1260  2013-02-11  68.0714  69.2771  67.6071  68.5614  129029425  AAPL\n",
       "1261  2013-02-12  68.5014  68.9114  66.8205  66.8428  151829363  AAPL\n",
       "1262  2013-02-13  66.7442  67.6628  66.1742  66.7156  118721995  AAPL\n",
       "1263  2013-02-14  66.3599  67.3771  66.2885  66.6556   88809154  AAPL"
      ]
     },
     "execution_count": 4,
     "metadata": {},
     "output_type": "execute_result"
    }
   ],
   "source": [
    "data=data[data['Name']=='AAPL']\n",
    "data.head()"
   ]
  },
  {
   "cell_type": "code",
   "execution_count": 5,
   "metadata": {},
   "outputs": [
    {
     "data": {
      "text/plain": [
       "(1259, 7)"
      ]
     },
     "execution_count": 5,
     "metadata": {},
     "output_type": "execute_result"
    }
   ],
   "source": [
    "data.shape"
   ]
  },
  {
   "cell_type": "code",
   "execution_count": null,
   "metadata": {},
   "outputs": [],
   "source": []
  },
  {
   "cell_type": "code",
   "execution_count": 6,
   "metadata": {},
   "outputs": [],
   "source": [
    "dataset=data[['date','close']]"
   ]
  },
  {
   "cell_type": "code",
   "execution_count": 7,
   "metadata": {},
   "outputs": [],
   "source": [
    "dataset1=data[['close']]\n",
    "dataset1 = dataset1.values\n",
    "dataset1 = dataset1.astype('float32')\n"
   ]
  },
  {
   "cell_type": "code",
   "execution_count": 8,
   "metadata": {},
   "outputs": [
    {
     "data": {
      "text/html": [
       "<div>\n",
       "<style scoped>\n",
       "    .dataframe tbody tr th:only-of-type {\n",
       "        vertical-align: middle;\n",
       "    }\n",
       "\n",
       "    .dataframe tbody tr th {\n",
       "        vertical-align: top;\n",
       "    }\n",
       "\n",
       "    .dataframe thead th {\n",
       "        text-align: right;\n",
       "    }\n",
       "</style>\n",
       "<table border=\"1\" class=\"dataframe\">\n",
       "  <thead>\n",
       "    <tr style=\"text-align: right;\">\n",
       "      <th></th>\n",
       "      <th>date</th>\n",
       "      <th>close</th>\n",
       "    </tr>\n",
       "  </thead>\n",
       "  <tbody>\n",
       "    <tr>\n",
       "      <th>1259</th>\n",
       "      <td>2013-02-08</td>\n",
       "      <td>67.8542</td>\n",
       "    </tr>\n",
       "    <tr>\n",
       "      <th>1260</th>\n",
       "      <td>2013-02-11</td>\n",
       "      <td>68.5614</td>\n",
       "    </tr>\n",
       "    <tr>\n",
       "      <th>1261</th>\n",
       "      <td>2013-02-12</td>\n",
       "      <td>66.8428</td>\n",
       "    </tr>\n",
       "    <tr>\n",
       "      <th>1262</th>\n",
       "      <td>2013-02-13</td>\n",
       "      <td>66.7156</td>\n",
       "    </tr>\n",
       "    <tr>\n",
       "      <th>1263</th>\n",
       "      <td>2013-02-14</td>\n",
       "      <td>66.6556</td>\n",
       "    </tr>\n",
       "  </tbody>\n",
       "</table>\n",
       "</div>"
      ],
      "text/plain": [
       "            date    close\n",
       "1259  2013-02-08  67.8542\n",
       "1260  2013-02-11  68.5614\n",
       "1261  2013-02-12  66.8428\n",
       "1262  2013-02-13  66.7156\n",
       "1263  2013-02-14  66.6556"
      ]
     },
     "execution_count": 8,
     "metadata": {},
     "output_type": "execute_result"
    }
   ],
   "source": [
    "dataset.head()"
   ]
  },
  {
   "cell_type": "code",
   "execution_count": null,
   "metadata": {},
   "outputs": [],
   "source": []
  },
  {
   "cell_type": "code",
   "execution_count": 9,
   "metadata": {},
   "outputs": [
    {
     "name": "stderr",
     "output_type": "stream",
     "text": [
      "C:\\Users\\Puneet Singh\\Anaconda3\\lib\\site-packages\\pandas\\core\\frame.py:4025: SettingWithCopyWarning: \n",
      "A value is trying to be set on a copy of a slice from a DataFrame\n",
      "\n",
      "See the caveats in the documentation: http://pandas.pydata.org/pandas-docs/stable/indexing.html#indexing-view-versus-copy\n",
      "  return super(DataFrame, self).rename(**kwargs)\n"
     ]
    }
   ],
   "source": [
    "dataset.rename(columns={'date':'Date', 'close':'Stock_price_close'}, inplace = True)"
   ]
  },
  {
   "cell_type": "code",
   "execution_count": 10,
   "metadata": {},
   "outputs": [
    {
     "name": "stderr",
     "output_type": "stream",
     "text": [
      "C:\\Users\\Puneet Singh\\Anaconda3\\lib\\site-packages\\ipykernel_launcher.py:1: SettingWithCopyWarning: \n",
      "A value is trying to be set on a copy of a slice from a DataFrame.\n",
      "Try using .loc[row_indexer,col_indexer] = value instead\n",
      "\n",
      "See the caveats in the documentation: http://pandas.pydata.org/pandas-docs/stable/indexing.html#indexing-view-versus-copy\n",
      "  \"\"\"Entry point for launching an IPython kernel.\n"
     ]
    }
   ],
   "source": [
    "dataset['Date']=pd.to_datetime(dataset['Date'], errors='coerce', format='%Y-%m-%d')"
   ]
  },
  {
   "cell_type": "code",
   "execution_count": 11,
   "metadata": {},
   "outputs": [
    {
     "name": "stdout",
     "output_type": "stream",
     "text": [
      "<class 'pandas.core.frame.DataFrame'>\n",
      "Int64Index: 1259 entries, 1259 to 2517\n",
      "Data columns (total 2 columns):\n",
      "Date                 1259 non-null datetime64[ns]\n",
      "Stock_price_close    1259 non-null float64\n",
      "dtypes: datetime64[ns](1), float64(1)\n",
      "memory usage: 29.5 KB\n"
     ]
    }
   ],
   "source": [
    "dataset.info()"
   ]
  },
  {
   "cell_type": "code",
   "execution_count": 12,
   "metadata": {},
   "outputs": [],
   "source": [
    "dataset.set_index('Date',inplace=True)"
   ]
  },
  {
   "cell_type": "code",
   "execution_count": 13,
   "metadata": {},
   "outputs": [
    {
     "data": {
      "text/html": [
       "<div>\n",
       "<style scoped>\n",
       "    .dataframe tbody tr th:only-of-type {\n",
       "        vertical-align: middle;\n",
       "    }\n",
       "\n",
       "    .dataframe tbody tr th {\n",
       "        vertical-align: top;\n",
       "    }\n",
       "\n",
       "    .dataframe thead th {\n",
       "        text-align: right;\n",
       "    }\n",
       "</style>\n",
       "<table border=\"1\" class=\"dataframe\">\n",
       "  <thead>\n",
       "    <tr style=\"text-align: right;\">\n",
       "      <th></th>\n",
       "      <th>Stock_price_close</th>\n",
       "    </tr>\n",
       "    <tr>\n",
       "      <th>Date</th>\n",
       "      <th></th>\n",
       "    </tr>\n",
       "  </thead>\n",
       "  <tbody>\n",
       "    <tr>\n",
       "      <th>2013-02-08</th>\n",
       "      <td>67.8542</td>\n",
       "    </tr>\n",
       "    <tr>\n",
       "      <th>2013-02-11</th>\n",
       "      <td>68.5614</td>\n",
       "    </tr>\n",
       "    <tr>\n",
       "      <th>2013-02-12</th>\n",
       "      <td>66.8428</td>\n",
       "    </tr>\n",
       "    <tr>\n",
       "      <th>2013-02-13</th>\n",
       "      <td>66.7156</td>\n",
       "    </tr>\n",
       "    <tr>\n",
       "      <th>2013-02-14</th>\n",
       "      <td>66.6556</td>\n",
       "    </tr>\n",
       "  </tbody>\n",
       "</table>\n",
       "</div>"
      ],
      "text/plain": [
       "            Stock_price_close\n",
       "Date                         \n",
       "2013-02-08            67.8542\n",
       "2013-02-11            68.5614\n",
       "2013-02-12            66.8428\n",
       "2013-02-13            66.7156\n",
       "2013-02-14            66.6556"
      ]
     },
     "execution_count": 13,
     "metadata": {},
     "output_type": "execute_result"
    }
   ],
   "source": [
    "dataset.head()"
   ]
  },
  {
   "cell_type": "code",
   "execution_count": 14,
   "metadata": {},
   "outputs": [
    {
     "data": {
      "text/plain": [
       "<matplotlib.axes._subplots.AxesSubplot at 0x1b16eff3630>"
      ]
     },
     "execution_count": 14,
     "metadata": {},
     "output_type": "execute_result"
    },
    {
     "data": {
      "image/png": "[encoded data removed]",
      "text/plain": [
       "<Figure size 720x432 with 1 Axes>"
      ]
     },
     "metadata": {
      "needs_background": "light"
     },
     "output_type": "display_data"
    }
   ],
   "source": [
    "dataset.plot(figsize=(10,6))"
   ]
  },
  {
   "cell_type": "markdown",
   "metadata": {},
   "source": [
    "# preprocess the data "
   ]
  },
  {
   "cell_type": "code",
   "execution_count": 15,
   "metadata": {},
   "outputs": [
    {
     "name": "stdout",
     "output_type": "stream",
     "text": [
      "843 416\n"
     ]
    }
   ],
   "source": [
    "...\n",
    "# split into train and test sets\n",
    "train_size = int(len(dataset1) * 0.67)\n",
    "test_size = len(dataset1) - train_size\n",
    "train, test = dataset1[0:train_size:], dataset1[train_size:len(dataset1):]\n",
    "print(len(train), len(test))\n",
    "#train"
   ]
  },
  {
   "cell_type": "code",
   "execution_count": 16,
   "metadata": {},
   "outputs": [],
   "source": [
    "# univariate data preparation\n",
    "from numpy import array\n",
    "\n",
    "# split a univariate sequence into samples\n",
    "def split_sequence(sequence, n_steps):\n",
    "    X, y = list(), list()\n",
    "    for i in range(len(sequence)):\n",
    "        # find the end of this pattern\n",
    "        end_ix = i + n_steps\n",
    "        # check if we are beyond the sequence\n",
    "        if end_ix > len(sequence)-1:\n",
    "            break\n",
    "        # gather input and output parts of the pattern\n",
    "        seq_x, seq_y = sequence[i:end_ix], sequence[end_ix]\n",
    "        X.append(seq_x)\n",
    "        y.append(seq_y)\n",
    "    return array(X), array(y)\n",
    "\n"
   ]
  },
  {
   "cell_type": "code",
   "execution_count": null,
   "metadata": {},
   "outputs": [],
   "source": []
  },
  {
   "cell_type": "code",
   "execution_count": 17,
   "metadata": {},
   "outputs": [],
   "source": [
    "#train=train['close']\n",
    "#test=test['close']\n",
    "#df1=train\n",
    "x_train,y_train=split_sequence(train,10)\n",
    "x_test,y_test=split_sequence(test,10)"
   ]
  },
  {
   "cell_type": "code",
   "execution_count": 18,
   "metadata": {},
   "outputs": [],
   "source": [
    "#for i in range(0,len(x_train)):\n",
    "#df1.shape\n",
    "  #  print(x_test[i],test[i])"
   ]
  },
  {
   "cell_type": "code",
   "execution_count": 19,
   "metadata": {},
   "outputs": [
    {
     "data": {
      "text/plain": [
       "(833, 10, 1)"
      ]
     },
     "execution_count": 19,
     "metadata": {},
     "output_type": "execute_result"
    }
   ],
   "source": [
    "# reshape from [samples, timesteps] into [samples, timesteps, features]\n",
    "n_features = 1\n",
    "x_train=x_train.reshape(x_train.shape[0],x_train.shape[1],n_features)\n",
    "x_train.shape"
   ]
  },
  {
   "cell_type": "code",
   "execution_count": 20,
   "metadata": {},
   "outputs": [
    {
     "data": {
      "text/plain": [
       "(406, 10, 1)"
      ]
     },
     "execution_count": 20,
     "metadata": {},
     "output_type": "execute_result"
    }
   ],
   "source": [
    "# reshape from [samples, timesteps] into [samples, timesteps, features]\n",
    "n_features = 1\n",
    "x_test=x_test.reshape(x_test.shape[0],x_test.shape[1],n_features)\n",
    "x_test.shape"
   ]
  },
  {
   "cell_type": "code",
   "execution_count": 21,
   "metadata": {},
   "outputs": [
    {
     "name": "stderr",
     "output_type": "stream",
     "text": [
      "Using TensorFlow backend.\n"
     ]
    }
   ],
   "source": [
    "from keras.layers import LSTM,Dense,Flatten\n",
    "from keras.models import Sequential"
   ]
  },
  {
   "cell_type": "code",
   "execution_count": 22,
   "metadata": {},
   "outputs": [],
   "source": [
    "model=Sequential()"
   ]
  },
  {
   "cell_type": "code",
   "execution_count": 23,
   "metadata": {},
   "outputs": [
    {
     "name": "stdout",
     "output_type": "stream",
     "text": [
      "WARNING:tensorflow:From C:\\Users\\Puneet Singh\\Anaconda3\\lib\\site-packages\\tensorflow\\python\\ops\\resource_variable_ops.py:435: colocate_with (from tensorflow.python.framework.ops) is deprecated and will be removed in a future version.\n",
      "Instructions for updating:\n",
      "Colocations handled automatically by placer.\n",
      "Model: \"sequential_1\"\n",
      "_________________________________________________________________\n",
      "Layer (type)                 Output Shape              Param #   \n",
      "=================================================================\n",
      "lstm_1 (LSTM)                (None, 10, 50)            10400     \n",
      "_________________________________________________________________\n",
      "lstm_2 (LSTM)                (None, 10, 50)            20200     \n",
      "_________________________________________________________________\n",
      "lstm_3 (LSTM)                (None, 50)                20200     \n",
      "_________________________________________________________________\n",
      "dense_1 (Dense)              (None, 1)                 51        \n",
      "=================================================================\n",
      "Total params: 50,851\n",
      "Trainable params: 50,851\n",
      "Non-trainable params: 0\n",
      "_________________________________________________________________\n"
     ]
    }
   ],
   "source": [
    "#input_shape is supposed to be (timesteps, n_features). Remove the first dimension.\n",
    "\n",
    "\n",
    "model.add(LSTM(50, activation='relu', return_sequences=True, input_shape=(x_train.shape[1],1)))\n",
    "model.add(LSTM(50, activation='relu',return_sequences=True))\n",
    "model.add(LSTM(50, activation='relu'))\n",
    "\n",
    "model.add(Dense(1))\n",
    "model.compile(optimizer='adam', loss='mse')\n",
    "# fit model\n",
    "model.summary()"
   ]
  },
  {
   "cell_type": "code",
   "execution_count": 24,
   "metadata": {},
   "outputs": [
    {
     "name": "stdout",
     "output_type": "stream",
     "text": [
      "WARNING:tensorflow:From C:\\Users\\Puneet Singh\\Anaconda3\\lib\\site-packages\\tensorflow\\python\\ops\\math_ops.py:3066: to_int32 (from tensorflow.python.ops.math_ops) is deprecated and will be removed in a future version.\n",
      "Instructions for updating:\n",
      "Use tf.cast instead.\n",
      "Train on 833 samples, validate on 406 samples\n",
      "Epoch 1/100\n",
      "833/833 [==============================] - 3s 4ms/step - loss: 2944.0231 - val_loss: 150.9487\n",
      "Epoch 2/100\n",
      "833/833 [==============================] - 1s 825us/step - loss: 83.3682 - val_loss: 61.4706\n",
      "Epoch 3/100\n",
      "833/833 [==============================] - 1s 793us/step - loss: 21.6340 - val_loss: 21.2237\n",
      "Epoch 4/100\n",
      "833/833 [==============================] - 1s 968us/step - loss: 15.2768 - val_loss: 19.5909\n",
      "Epoch 5/100\n",
      "833/833 [==============================] - 1s 1ms/step - loss: 14.8044 - val_loss: 19.0273\n",
      "Epoch 6/100\n",
      "833/833 [==============================] - 1s 850us/step - loss: 14.3044 - val_loss: 17.3431\n",
      "Epoch 7/100\n",
      "833/833 [==============================] - 1s 769us/step - loss: 13.3384 - val_loss: 25.5295\n",
      "Epoch 8/100\n",
      "833/833 [==============================] - 1s 850us/step - loss: 17.2882 - val_loss: 16.8261\n",
      "Epoch 9/100\n",
      "833/833 [==============================] - 1s 801us/step - loss: 13.7888 - val_loss: 16.0978\n",
      "Epoch 10/100\n",
      "833/833 [==============================] - 1s 912us/step - loss: 12.7172 - val_loss: 13.4923\n",
      "Epoch 11/100\n",
      "833/833 [==============================] - 1s 764us/step - loss: 9.5471 - val_loss: 9.5336\n",
      "Epoch 12/100\n",
      "833/833 [==============================] - 1s 898us/step - loss: 6.8436 - val_loss: 17.4214\n",
      "Epoch 13/100\n",
      "833/833 [==============================] - 1s 991us/step - loss: 7.5116 - val_loss: 11.1055\n",
      "Epoch 14/100\n",
      "833/833 [==============================] - 1s 984us/step - loss: 5.5749 - val_loss: 10.2947\n",
      "Epoch 15/100\n",
      "833/833 [==============================] - 1s 978us/step - loss: 5.1476 - val_loss: 40.4979\n",
      "Epoch 16/100\n",
      "833/833 [==============================] - 1s 750us/step - loss: 11.8810 - val_loss: 9.6749\n",
      "Epoch 17/100\n",
      "833/833 [==============================] - 1s 857us/step - loss: 7.4256 - val_loss: 8.2929\n",
      "Epoch 18/100\n",
      "833/833 [==============================] - 1s 1ms/step - loss: 6.1662 - val_loss: 8.2607\n",
      "Epoch 19/100\n",
      "833/833 [==============================] - 1s 778us/step - loss: 4.8603 - val_loss: 5.9324\n",
      "Epoch 20/100\n",
      "833/833 [==============================] - 1s 798us/step - loss: 4.6196 - val_loss: 6.0909\n",
      "Epoch 21/100\n",
      "833/833 [==============================] - 1s 704us/step - loss: 4.3342 - val_loss: 16.3675\n",
      "Epoch 22/100\n",
      "833/833 [==============================] - 1s 941us/step - loss: 5.4366 - val_loss: 5.3799\n",
      "Epoch 23/100\n",
      "833/833 [==============================] - 1s 981us/step - loss: 4.2638 - val_loss: 14.4502\n",
      "Epoch 24/100\n",
      "833/833 [==============================] - 1s 967us/step - loss: 4.4142 - val_loss: 7.8205\n",
      "Epoch 25/100\n",
      "833/833 [==============================] - 1s 723us/step - loss: 3.9559 - val_loss: 3.9587\n",
      "Epoch 26/100\n",
      "833/833 [==============================] - 1s 839us/step - loss: 3.5069 - val_loss: 5.9367\n",
      "Epoch 27/100\n",
      "833/833 [==============================] - 1s 901us/step - loss: 4.0410 - val_loss: 3.2373\n",
      "Epoch 28/100\n",
      "833/833 [==============================] - 1s 765us/step - loss: 3.3192 - val_loss: 3.5141\n",
      "Epoch 29/100\n",
      "833/833 [==============================] - 1s 777us/step - loss: 3.8122 - val_loss: 33.0371\n",
      "Epoch 30/100\n",
      "833/833 [==============================] - 1s 905us/step - loss: 5.0195 - val_loss: 5.9400\n",
      "Epoch 31/100\n",
      "833/833 [==============================] - 1s 1ms/step - loss: 4.3297 - val_loss: 4.8549\n",
      "Epoch 32/100\n",
      "833/833 [==============================] - 1s 1ms/step - loss: 3.1527 - val_loss: 6.4912\n",
      "Epoch 33/100\n",
      "833/833 [==============================] - 1s 1ms/step - loss: 2.9578 - val_loss: 4.6457\n",
      "Epoch 34/100\n",
      "833/833 [==============================] - 1s 808us/step - loss: 4.3320 - val_loss: 5.3247\n",
      "Epoch 35/100\n",
      "833/833 [==============================] - 1s 738us/step - loss: 5.3411 - val_loss: 13.6357\n",
      "Epoch 36/100\n",
      "833/833 [==============================] - 1s 769us/step - loss: 5.0829 - val_loss: 10.9948\n",
      "Epoch 37/100\n",
      "833/833 [==============================] - 1s 775us/step - loss: 3.5104 - val_loss: 13.9586\n",
      "Epoch 38/100\n",
      "833/833 [==============================] - 1s 799us/step - loss: 4.1907 - val_loss: 4.7180\n",
      "Epoch 39/100\n",
      "833/833 [==============================] - 1s 799us/step - loss: 4.1328 - val_loss: 6.2138\n",
      "Epoch 40/100\n",
      "833/833 [==============================] - 1s 1ms/step - loss: 3.0105 - val_loss: 11.6045\n",
      "Epoch 41/100\n",
      "833/833 [==============================] - 1s 829us/step - loss: 5.6854 - val_loss: 4.9409\n",
      "Epoch 42/100\n",
      "833/833 [==============================] - 1s 1ms/step - loss: 3.4158 - val_loss: 4.8973 ETA: 0s - loss: 3\n",
      "Epoch 43/100\n",
      "833/833 [==============================] - 1s 654us/step - loss: 3.2950 - val_loss: 43.2955\n",
      "Epoch 44/100\n",
      "833/833 [==============================] - 1s 801us/step - loss: 16.2960 - val_loss: 11.1940\n",
      "Epoch 45/100\n",
      "833/833 [==============================] - 1s 750us/step - loss: 9.4840 - val_loss: 21.9086\n",
      "Epoch 46/100\n",
      "833/833 [==============================] - 1s 819us/step - loss: 12.5816 - val_loss: 7.0875\n",
      "Epoch 47/100\n",
      "833/833 [==============================] - 1s 726us/step - loss: 6.4030 - val_loss: 16.7112\n",
      "Epoch 48/100\n",
      "833/833 [==============================] - 1s 859us/step - loss: 5.1365 - val_loss: 11.6401\n",
      "Epoch 49/100\n",
      "833/833 [==============================] - 1s 713us/step - loss: 5.6058 - val_loss: 10.1004\n",
      "Epoch 50/100\n",
      "833/833 [==============================] - 1s 1ms/step - loss: 4.4086 - val_loss: 14.4289\n",
      "Epoch 51/100\n",
      "833/833 [==============================] - 1s 1ms/step - loss: 3.8239 - val_loss: 87.9797\n",
      "Epoch 52/100\n",
      "833/833 [==============================] - 1s 1ms/step - loss: 12.4037 - val_loss: 12.3172\n",
      "Epoch 53/100\n",
      "833/833 [==============================] - 1s 786us/step - loss: 10.0704 - val_loss: 17.3810\n",
      "Epoch 54/100\n",
      "833/833 [==============================] - 1s 871us/step - loss: 6.9947 - val_loss: 4.9294\n",
      "Epoch 55/100\n",
      "833/833 [==============================] - 1s 710us/step - loss: 4.2664 - val_loss: 5.0266\n",
      "Epoch 56/100\n",
      "833/833 [==============================] - 1s 819us/step - loss: 3.7490 - val_loss: 3.9924\n",
      "Epoch 57/100\n",
      "833/833 [==============================] - 1s 694us/step - loss: 3.7346 - val_loss: 18.7799\n",
      "Epoch 58/100\n",
      "833/833 [==============================] - 1s 970us/step - loss: 6.1916 - val_loss: 5.9413\n",
      "Epoch 59/100\n",
      "833/833 [==============================] - 1s 814us/step - loss: 3.4990 - val_loss: 3.6049\n",
      "Epoch 60/100\n",
      "833/833 [==============================] - 1s 1ms/step - loss: 3.1215 - val_loss: 12.6604\n",
      "Epoch 61/100\n",
      "833/833 [==============================] - 1s 888us/step - loss: 3.4137 - val_loss: 15.1731\n",
      "Epoch 62/100\n",
      "833/833 [==============================] - 1s 941us/step - loss: 5.7600 - val_loss: 20.0552\n",
      "Epoch 63/100\n",
      "833/833 [==============================] - 1s 857us/step - loss: 6.5931 - val_loss: 21.2682\n",
      "Epoch 64/100\n",
      "833/833 [==============================] - 1s 701us/step - loss: 7.5864 - val_loss: 18.9977\n",
      "Epoch 65/100\n",
      "833/833 [==============================] - 1s 878us/step - loss: 8.7981 - val_loss: 39.3730\n",
      "Epoch 66/100\n",
      "833/833 [==============================] - 1s 744us/step - loss: 9.0277 - val_loss: 4.5574\n",
      "Epoch 67/100\n",
      "833/833 [==============================] - 1s 921us/step - loss: 5.0187 - val_loss: 7.3959\n",
      "Epoch 68/100\n",
      "833/833 [==============================] - 1s 720us/step - loss: 3.5104 - val_loss: 5.3011\n",
      "Epoch 69/100\n",
      "833/833 [==============================] - 1s 925us/step - loss: 3.2328 - val_loss: 6.4852\n",
      "Epoch 70/100\n",
      "833/833 [==============================] - 1s 992us/step - loss: 3.1737 - val_loss: 5.7445\n",
      "Epoch 71/100\n",
      "833/833 [==============================] - 1s 1ms/step - loss: 3.0717 - val_loss: 8.8226\n",
      "Epoch 72/100\n",
      "833/833 [==============================] - 1s 880us/step - loss: 4.0928 - val_loss: 4.3784\n",
      "Epoch 73/100\n",
      "833/833 [==============================] - 1s 746us/step - loss: 3.4026 - val_loss: 3.5673\n",
      "Epoch 74/100\n",
      "833/833 [==============================] - 1s 822us/step - loss: 3.5657 - val_loss: 3.6848\n",
      "Epoch 75/100\n",
      "833/833 [==============================] - 1s 721us/step - loss: 2.9402 - val_loss: 3.9774\n",
      "Epoch 76/100\n"
     ]
    },
    {
     "name": "stdout",
     "output_type": "stream",
     "text": [
      "833/833 [==============================] - 1s 939us/step - loss: 2.9678 - val_loss: 6.7052\n",
      "Epoch 77/100\n",
      "833/833 [==============================] - 1s 722us/step - loss: 2.9130 - val_loss: 8.8399\n",
      "Epoch 78/100\n",
      "833/833 [==============================] - 1s 926us/step - loss: 3.6235 - val_loss: 4.7558\n",
      "Epoch 79/100\n",
      "833/833 [==============================] - 1s 896us/step - loss: 3.8932 - val_loss: 4.5887\n",
      "Epoch 80/100\n",
      "833/833 [==============================] - 1s 1ms/step - loss: 3.1761 - val_loss: 9.0158\n",
      "Epoch 81/100\n",
      "833/833 [==============================] - 1s 1ms/step - loss: 3.5199 - val_loss: 3.7425\n",
      "Epoch 82/100\n",
      "833/833 [==============================] - 1s 880us/step - loss: 3.4071 - val_loss: 19.7717\n",
      "Epoch 83/100\n",
      "833/833 [==============================] - 1s 734us/step - loss: 5.3945 - val_loss: 12.5825\n",
      "Epoch 84/100\n",
      "833/833 [==============================] - 1s 867us/step - loss: 3.4158 - val_loss: 26.1925\n",
      "Epoch 85/100\n",
      "833/833 [==============================] - 1s 775us/step - loss: 10.0107 - val_loss: 8.1848\n",
      "Epoch 86/100\n",
      "833/833 [==============================] - 1s 825us/step - loss: 11.2585 - val_loss: 11.9051\n",
      "Epoch 87/100\n",
      "833/833 [==============================] - 1s 897us/step - loss: 4.8923 - val_loss: 34.3210\n",
      "Epoch 88/100\n",
      "833/833 [==============================] - 1s 687us/step - loss: 9.0262 - val_loss: 14.8498\n",
      "Epoch 89/100\n",
      "833/833 [==============================] - 1s 783us/step - loss: 5.5678 - val_loss: 3.6435\n",
      "Epoch 90/100\n",
      "833/833 [==============================] - 1s 953us/step - loss: 3.9265 - val_loss: 7.8935\n",
      "Epoch 91/100\n",
      "833/833 [==============================] - 1s 1ms/step - loss: 4.1111 - val_loss: 9.0235\n",
      "Epoch 92/100\n",
      "833/833 [==============================] - 1s 734us/step - loss: 4.0984 - val_loss: 11.7946\n",
      "Epoch 93/100\n",
      "833/833 [==============================] - 1s 903us/step - loss: 3.9876 - val_loss: 4.3439\n",
      "Epoch 94/100\n",
      "833/833 [==============================] - 1s 859us/step - loss: 3.0152 - val_loss: 4.2922\n",
      "Epoch 95/100\n",
      "833/833 [==============================] - 1s 1ms/step - loss: 2.8929 - val_loss: 5.0129\n",
      "Epoch 96/100\n",
      "833/833 [==============================] - 1s 893us/step - loss: 2.9785 - val_loss: 14.7144\n",
      "Epoch 97/100\n",
      "833/833 [==============================] - 1s 918us/step - loss: 4.4985 - val_loss: 19.0142\n",
      "Epoch 98/100\n",
      "833/833 [==============================] - 1s 988us/step - loss: 3.6572 - val_loss: 5.4943\n",
      "Epoch 99/100\n",
      "833/833 [==============================] - 1s 1ms/step - loss: 3.8735 - val_loss: 5.4795\n",
      "Epoch 100/100\n",
      "833/833 [==============================] - 1s 1ms/step - loss: 3.2260 - val_loss: 12.4774\n"
     ]
    },
    {
     "data": {
      "text/plain": [
       "<keras.callbacks.callbacks.History at 0x1b17c8aca58>"
      ]
     },
     "execution_count": 24,
     "metadata": {},
     "output_type": "execute_result"
    }
   ],
   "source": [
    "model.fit(x_train, y_train,validation_data=(x_test,y_test) ,epochs=100,batch_size=64, verbose=1)"
   ]
  },
  {
   "cell_type": "code",
   "execution_count": 25,
   "metadata": {},
   "outputs": [],
   "source": [
    "y_hat=model.predict(x_test)"
   ]
  },
  {
   "cell_type": "code",
   "execution_count": 26,
   "metadata": {},
   "outputs": [
    {
     "name": "stdout",
     "output_type": "stream",
     "text": [
      "[94.4] [95.57382]\n",
      "[95.6] [96.15774]\n",
      "[95.89] [97.08574]\n",
      "[94.99] [97.5887]\n",
      "[95.53] [96.94642]\n",
      "[95.94] [97.54936]\n",
      "[96.68] [98.01378]\n",
      "[96.98] [98.39525]\n",
      "[97.42] [98.68468]\n",
      "[96.87] [99.22772]\n",
      "[98.79] [98.735954]\n",
      "[98.78] [100.71915]\n",
      "[99.83] [100.72052]\n",
      "[99.87] [101.46868]\n",
      "[99.96] [101.8138]\n",
      "[99.43] [101.91785]\n",
      "[98.66] [101.53814]\n",
      "[97.34] [100.609344]\n",
      "[96.67] [99.393265]\n",
      "[102.95] [98.72155]\n",
      "[104.34] [104.82535]\n",
      "[104.21] [105.471825]\n",
      "[106.05] [105.67577]\n",
      "[104.48] [106.77099]\n",
      "[105.79] [106.08136]\n",
      "[105.87] [106.381546]\n",
      "[107.48] [106.64064]\n",
      "[108.37] [107.68265]\n",
      "[108.81] [109.15855]\n",
      "[108.] [110.63352]\n",
      "[107.93] [110.45071]\n",
      "[108.18] [110.46593]\n",
      "[109.48] [110.73824]\n",
      "[109.38] [111.74546]\n",
      "[109.22] [111.7283]\n",
      "[109.08] [111.505325]\n",
      "[109.36] [111.42739]\n",
      "[108.51] [111.75445]\n",
      "[108.85] [110.69368]\n",
      "[108.03] [111.03077]\n",
      "[107.57] [110.1651]\n",
      "[106.94] [109.74689]\n",
      "[106.82] [109.27958]\n",
      "[106.] [109.08834]\n",
      "[106.1] [108.271194]\n",
      "[106.73] [108.36721]\n",
      "[107.73] [108.97597]\n",
      "[107.7] [109.81774]\n",
      "[108.36] [109.82512]\n",
      "[105.52] [110.76841]\n"
     ]
    }
   ],
   "source": [
    "for i in range(0,50):\n",
    "    print(y_test[i],y_hat[i])"
   ]
  },
  {
   "cell_type": "code",
   "execution_count": null,
   "metadata": {},
   "outputs": [],
   "source": []
  },
  {
   "cell_type": "code",
   "execution_count": 27,
   "metadata": {},
   "outputs": [],
   "source": [
    "#df1=data[['close']]\n",
    "#df1 = df1.close.values.astype('float32')\n",
    "\n",
    "#print(type(df1))\n",
    "#df1 = df1.reshape(len(df1), 1)\n",
    "\n",
    "#train_predict=model.predict(x_train)\n",
    "#test_predict=model.predict(x_test)"
   ]
  },
  {
   "cell_type": "code",
   "execution_count": 28,
   "metadata": {},
   "outputs": [
    {
     "ename": "NameError",
     "evalue": "name 'testPredictPlot' is not defined",
     "output_type": "error",
     "traceback": [
      "\u001b[1;31m---------------------------------------------------------------------------\u001b[0m",
      "\u001b[1;31mNameError\u001b[0m                                 Traceback (most recent call last)",
      "\u001b[1;32m<ipython-input-28-9cea5f288604>\u001b[0m in \u001b[0;36m<module>\u001b[1;34m\u001b[0m\n\u001b[0;32m     17\u001b[0m \u001b[0mplt\u001b[0m\u001b[1;33m.\u001b[0m\u001b[0mplot\u001b[0m\u001b[1;33m(\u001b[0m\u001b[0mdataset1\u001b[0m\u001b[1;33m)\u001b[0m\u001b[1;33m\u001b[0m\u001b[1;33m\u001b[0m\u001b[0m\n\u001b[0;32m     18\u001b[0m \u001b[0mplt\u001b[0m\u001b[1;33m.\u001b[0m\u001b[0mplot\u001b[0m\u001b[1;33m(\u001b[0m\u001b[0mtrainPredictPlot\u001b[0m\u001b[1;33m)\u001b[0m\u001b[1;33m\u001b[0m\u001b[1;33m\u001b[0m\u001b[0m\n\u001b[1;32m---> 19\u001b[1;33m \u001b[0mplt\u001b[0m\u001b[1;33m.\u001b[0m\u001b[0mplot\u001b[0m\u001b[1;33m(\u001b[0m\u001b[0mtestPredictPlot\u001b[0m\u001b[1;33m)\u001b[0m\u001b[1;33m\u001b[0m\u001b[1;33m\u001b[0m\u001b[0m\n\u001b[0m\u001b[0;32m     20\u001b[0m \u001b[0mplt\u001b[0m\u001b[1;33m.\u001b[0m\u001b[0mshow\u001b[0m\u001b[1;33m(\u001b[0m\u001b[1;33m)\u001b[0m\u001b[1;33m\u001b[0m\u001b[1;33m\u001b[0m\u001b[0m\n",
      "\u001b[1;31mNameError\u001b[0m: name 'testPredictPlot' is not defined"
     ]
    },
    {
     "data": {
      "image/png": "[encoded data removed]",
      "text/plain": [
       "<Figure size 432x288 with 1 Axes>"
      ]
     },
     "metadata": {
      "needs_background": "light"
     },
     "output_type": "display_data"
    }
   ],
   "source": [
    "import numpy\n",
    "look_back=10\n",
    "# generate predictions for training\n",
    "trainPredict = model.predict(x_train)\n",
    "testPredict = model.predict(x_test)\n",
    "# shift train predictions for plotting\n",
    "trainPredictPlot = numpy.empty_like(dataset1)\n",
    "#print(trainPredictPlot)\n",
    "trainPredictPlot[:, :] = numpy.nan\n",
    "trainPredictPlot[look_back:len(trainPredict)+look_back, :] = trainPredict\n",
    "#print(trainPredictPlot)\n",
    "# shift test predictions for plotting\n",
    "#testPredictPlot = numpy.empty_like(dataset1)\n",
    "#testPredictPlot[:, :] = numpy.nan\n",
    "#testPredictPlot[len(trainPredict)+(look_back*2):len(dataset1), :] = testPredict\n",
    "# plot baseline and predictions\n",
    "plt.plot(dataset1)\n",
    "plt.plot(trainPredictPlot)\n",
    "plt.plot(testPredictPlot)\n",
    "plt.show()"
   ]
  },
  {
   "cell_type": "code",
   "execution_count": null,
   "metadata": {},
   "outputs": [],
   "source": []
  },
  {
   "cell_type": "code",
   "execution_count": null,
   "metadata": {},
   "outputs": [],
   "source": []
  },
  {
   "cell_type": "code",
   "execution_count": null,
   "metadata": {},
   "outputs": [],
   "source": []
  },
  {
   "cell_type": "code",
   "execution_count": null,
   "metadata": {},
   "outputs": [],
   "source": []
  },
  {
   "cell_type": "code",
   "execution_count": null,
   "metadata": {},
   "outputs": [],
   "source": []
  }
 ],
 "metadata": {
  "kernelspec": {
   "display_name": "Python 3",
   "language": "python",
   "name": "python3"
  },
  "language_info": {
   "codemirror_mode": {
    "name": "ipython",
    "version": 3
   },
   "file_extension": ".py",
   "mimetype": "text/x-python",
   "name": "python",
   "nbconvert_exporter": "python",
   "pygments_lexer": "ipython3",
   "version": "3.7.3"
  }
 },
 "nbformat": 4,
 "nbformat_minor": 2
}
